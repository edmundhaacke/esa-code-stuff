{
 "cells": [
  {
   "cell_type": "markdown",
   "metadata": {},
   "source": [
    "Easy:\n",
    "Create a function that takes two numbers and a mathematical operator + - / * and will perform a calculation with the given numbers.\n",
    " \n",
    "Examples\n",
    "calculator(2, \"+\", 2) ➞ 4\n",
    "calculator(2, \"*\", 2) ➞ 4\n",
    "calculator(4, \"/\", 2) ➞ 2\n",
    " \n",
    "Notes\n",
    "If the input tries to divide by 0, return: \"Can't divide by 0!\""
   ]
  },
  {
   "cell_type": "code",
   "execution_count": 4,
   "metadata": {},
   "outputs": [
    {
     "name": "stdout",
     "output_type": "stream",
     "text": [
      "4\n",
      "4\n",
      "2.0\n"
     ]
    }
   ],
   "source": [
    "from typing import Union\n",
    "\n",
    "def calculator(a: Union[int, float], op: str, b: Union[int, float]) -> Union[int, float, str]:\n",
    "    if op == \"+\":\n",
    "        return a + b\n",
    "    elif op == \"-\":\n",
    "        return a - b\n",
    "    elif op == \"*\":\n",
    "        return a * b\n",
    "    elif (op == \"/\") & (b == 0):\n",
    "        return \"Can't divide by 0!\"\n",
    "    elif (op == \"/\"):\n",
    "        return a / b\n",
    "    raise Exception(f\"Invalid operator {op}\")\n",
    "\n",
    "print(calculator(2, \"+\", 2))\n",
    "print(calculator(2, \"*\", 2))\n",
    "print(calculator(4, \"/\", 2))"
   ]
  },
  {
   "cell_type": "markdown",
   "metadata": {},
   "source": [
    "Medium:\n",
    "You work for a manufacturer, and have been asked to calculate the total profit made on the sales of a product. You are given a dictionary containing the cost price per unit (in dollars), sell price per unit (in dollars), and the starting inventory. Return the total profit made, rounded to the nearest dollar.\n",
    " \n",
    "Examples\n",
    "profit({\n",
    "  \"cost_price\": 32.67,\n",
    "  \"sell_price\": 45.00,\n",
    "  \"inventory\": 1200\n",
    "}) ➞ 14796\n",
    " \n",
    "profit({\n",
    "  \"cost_price\": 225.89,\n",
    "  \"sell_price\": 550.00,\n",
    "  \"inventory\": 100\n",
    "}) ➞ 32411\n",
    " \n",
    "profit({\n",
    "  \"cost_price\": 2.77,\n",
    "  \"sell_price\": 7.95,\n",
    "  \"inventory\": 8500\n",
    "}) ➞ 44030\n",
    " \n",
    "Notes\n",
    "Assume all inventory has been sold.\n",
    "Profit = Total Sales - Total Cost"
   ]
  },
  {
   "cell_type": "code",
   "execution_count": 2,
   "metadata": {},
   "outputs": [
    {
     "name": "stdout",
     "output_type": "stream",
     "text": [
      "14796\n",
      "32411\n",
      "44030\n"
     ]
    }
   ],
   "source": [
    "def profit(args: dict[str, float]) -> int:\n",
    "    return int(round(\n",
    "        (args[\"inventory\"]*args[\"sell_price\"])-(args[\"inventory\"]*args[\"cost_price\"]),\n",
    "        0\n",
    "    ))\n",
    "\n",
    "print(\n",
    "    profit(\n",
    "        {\n",
    "            \"cost_price\": 32.67,\n",
    "            \"sell_price\": 45.00,\n",
    "            \"inventory\": 1200\n",
    "        }\n",
    "    )\n",
    ")\n",
    " \n",
    "print(\n",
    "    profit(\n",
    "        {\n",
    "            \"cost_price\": 225.89,\n",
    "            \"sell_price\": 550.00,\n",
    "            \"inventory\": 100\n",
    "        }\n",
    "    )\n",
    ")\n",
    " \n",
    "print(\n",
    "    profit(\n",
    "        {\n",
    "            \"cost_price\": 2.77,\n",
    "            \"sell_price\": 7.95,\n",
    "            \"inventory\": 8500\n",
    "        }\n",
    "    )\n",
    ")"
   ]
  },
  {
   "cell_type": "markdown",
   "metadata": {},
   "source": [
    "Hard:\n",
    "Write a function that returns True if a string consists of ascending or ascending AND consecutive numbers.\n",
    " \n",
    "Examples\n",
    "ascending(\"232425\") ➞ True\n",
    "(Consecutive numbers 23, 24, 25)\n",
    "\n",
    "ascending(\"2324256\") ➞ False\n",
    "(No matter how this string is divided, the numbers are not consecutive)\n",
    " \n",
    "ascending(\"444445\") ➞ True\n",
    "(Consecutive numbers 444 and 445)\n",
    " \n",
    "Notes\n",
    "A number can consist of any number of digits, so long as the numbers are adjacent to each other, and the string has at least two of them."
   ]
  },
  {
   "cell_type": "code",
   "execution_count": 23,
   "metadata": {},
   "outputs": [
    {
     "name": "stdout",
     "output_type": "stream",
     "text": [
      "4\n",
      "['2', '3', '2', '4', '2', '5']\n",
      "['23', '24', '25']\n",
      "['232', '425']\n",
      "None\n",
      "4\n",
      "['2', '3', '2', '4', '2', '5', '6']\n",
      "['23', '24', '25', '6']\n",
      "['232', '425', '6']\n",
      "None\n",
      "4\n",
      "['4', '4', '4', '4', '4', '5']\n",
      "['44', '44', '45']\n",
      "['444', '445']\n",
      "None\n"
     ]
    }
   ],
   "source": [
    "from functools import reduce\n",
    "\n",
    "def ascending(s: str) -> bool:\n",
    "    # nb // is floor division operator\n",
    "    # break down the string into 1, 2, 3 etc batches\n",
    "    for n in range(1, len(s)//2 + 1):\n",
    "        grps = [s[i:i+n] for i in range(0, len(s), n)]\n",
    "        # pair element with the one at next idx pos\n",
    "        z: zip[str, str] = zip(grps, grps[1:])\n",
    "        # iterate thru and check whether ascending (e.g., +1 to lhs equals rhs)\n",
    "        all_asc: list[bool] = [\n",
    "            (int(a) + 1) == int(b)\n",
    "            for a, b in z\n",
    "        ]\n",
    "        # check if all are true\n",
    "        all_true: bool = reduce(lambda a, b: a & b, all_asc)\n",
    "        if all_true:\n",
    "            return True\n",
    "    return False\n",
    "\n",
    "print(ascending(\"232425\"))\n",
    "print(ascending(\"2324256\"))\n",
    "print(ascending(\"444445\"))"
   ]
  },
  {
   "cell_type": "code",
   "execution_count": null,
   "metadata": {},
   "outputs": [],
   "source": []
  }
 ],
 "metadata": {
  "kernelspec": {
   "display_name": ".venv",
   "language": "python",
   "name": "python3"
  },
  "language_info": {
   "codemirror_mode": {
    "name": "ipython",
    "version": 3
   },
   "file_extension": ".py",
   "mimetype": "text/x-python",
   "name": "python",
   "nbconvert_exporter": "python",
   "pygments_lexer": "ipython3",
   "version": "3.12.0"
  }
 },
 "nbformat": 4,
 "nbformat_minor": 2
}
