{
 "cells": [
  {
   "cell_type": "raw",
   "metadata": {
    "vscode": {
     "languageId": "raw"
    }
   },
   "source": []
  },
  {
   "cell_type": "markdown",
   "metadata": {},
   "source": []
  },
  {
   "cell_type": "markdown",
   "metadata": {
    "vscode": {
     "languageId": "plaintext"
    }
   },
   "source": [
    "Easy\n",
    "Write a function that takes a credit card number and only displays the last four characters. The rest of the card number must be replaced by ************.\n",
    "Examples:\n",
    "\n",
    "card_hide(\"1234123456785678\") ➞ \"************5678\"\n",
    "\n",
    "card_hide(\"8754456321113213\") ➞ \"************3213\"\n",
    "\n",
    "card_hide(\"35123413355523\") ➞ \"**********5523\"\n",
    "\n",
    "Notes:\n",
    "Ensure you return a string.\n",
    "The length of the string must remain the same as the input."
   ]
  },
  {
   "cell_type": "code",
   "execution_count": 1,
   "metadata": {},
   "outputs": [
    {
     "name": "stdout",
     "output_type": "stream",
     "text": [
      "************5678\n",
      "************3213\n",
      "**********5523\n"
     ]
    }
   ],
   "source": [
    "def card_hide(card):\n",
    "\treturn '*'*len(card[:-4])+card[-4:]\n",
    "\n",
    "print(card_hide(\"1234123456785678\"))\n",
    "print(card_hide(\"8754456321113213\"))\n",
    "print(card_hide(\"35123413355523\"))"
   ]
  },
  {
   "cell_type": "markdown",
   "metadata": {
    "vscode": {
     "languageId": "plaintext"
    }
   },
   "source": [
    "Medium\n",
    "Create a function that flips a horizontal list into a vertical list, and a vertical list into a horizontal list.\n",
    "In other words, take an 1 x n list (1 row + n columns) and flip it into a n x 1 list (n rows and 1 column), and vice versa.\n",
    "\n",
    "Examples:\n",
    "\n",
    "`flip_list([1, 2, 3, 4]) ➞ [[1], [2], [3], [4]]`\n",
    "\n",
    "Take a horizontal list and flip it vertical.\n",
    "\n",
    "`flip_list([[5], [6], [9]]) ➞ [5, 6, 9]`\n",
    "\n",
    "Take a vertical list and flip it horizontal.\n",
    "\n",
    "`flip_list([]) ➞ []`\n",
    "\n",
    "Notes:\n",
    "\n",
    "If given an empty list [], return an empty list []."
   ]
  },
  {
   "cell_type": "code",
   "execution_count": 2,
   "metadata": {},
   "outputs": [
    {
     "name": "stdout",
     "output_type": "stream",
     "text": [
      "[[1], [2], [3], [4]]\n",
      "[5, 6, 9]\n",
      "[]\n"
     ]
    }
   ],
   "source": [
    "def flip_list(lst):\n",
    "\treturn [x[0] if isinstance(x, list) else [x] for x in lst]\n",
    "\n",
    "print(flip_list([1, 2, 3, 4]))\n",
    "print(flip_list([[5], [6], [9]]))\n",
    "print(flip_list([]))"
   ]
  },
  {
   "cell_type": "markdown",
   "metadata": {
    "vscode": {
     "languageId": "plaintext"
    }
   },
   "source": [
    "Hard\n",
    "You will be given a polynomial expression in string form. The expression will contain any of the following operations, written using standard mathematical notation for a single variable, \"x\", as illustrated in the examples below:\n",
    "addition: x + 1\n",
    "subtraction: x – 2\n",
    "multiplication: 3x\n",
    "division: x / 4\n",
    "exponentation: x^5\n",
    "brackets: x(x + 1)\n",
    "Your task is to write a function that can evaluate such a polynomial for a given value of x. You will receive two arguments: the polynomial string and the input number.\n",
    "If the mathematical expression contains an error, you should return -1.\n",
    "Examples:\n",
    "```python\n",
    "evalPolynomial(\"x+1\", 5) ➞ 6\n",
    "evalPolynomial(\"5x^2\", 3) ➞ 45\n",
    "evalPolynomial(\"(x(x+1))/2\", 4) ➞ 10\n",
    "evalPolynomial(\"4(x + 3))/2\", 5) ➞ -1\n",
    "```\n",
    "// Invalid because parentheses not balanced.\n",
    "Notes:\n",
    "The string will not contain spaces."
   ]
  },
  {
   "cell_type": "code",
   "execution_count": 29,
   "metadata": {},
   "outputs": [],
   "source": [
    "import math\n",
    "import re\n",
    "\n",
    "class Node(object):\n",
    "    def getResult(self):\n",
    "        return 0\n",
    "\n",
    "class ValNode(Node):\n",
    "    def getResult(self):\n",
    "        return int(self.val)\n",
    "\n",
    "class OpNode(Node):\n",
    "\n",
    "    val1: ValNode = None\n",
    "    val2: ValNode = None\n",
    "    opChar: str = None\n",
    "\n",
    "    def __init__(self) -> None:\n",
    "        super().__init__()\n",
    "\n",
    "    def getResult(self):\n",
    "        if self.opChar == \"+\":\n",
    "            return int(self.val1.getResult() + self.val2.getResult())\n",
    "        elif self.opChar == \"-\":\n",
    "            return int(self.val1.getResult() - self.val2.getResult())\n",
    "        elif self.opChar == \"*\":\n",
    "            return int(self.val1.getResult() * self.val2.getResult())\n",
    "        elif self.opChar == \"/\":\n",
    "            return int(self.val1.getResult() / self.val2.getResult())\n",
    "        elif self.opChar == \"^\":\n",
    "            return int(math.pow(self.val1.getResult(), self.val2.getResult()))\n",
    "        return 0\n",
    "\n",
    "def isDigit(s: str) -> bool:\n",
    "    return bool(re.match(\"[0-9]\", s))\n",
    "\n",
    "def containsChar(l: list[str], s: str) -> bool:\n",
    "    return s in l\n",
    "\n",
    "def buildNode(polyNode: str) -> OpNode:\n",
    "    theNode: Node = None\n",
    "    # addition and subtraction\n",
    "    addSubSigns: list[str] = [\"+\", \"-\"]\n",
    "    theNode = buildOpNode(polyNode, addSubSigns)\n",
    "    if (theNode is not None):\n",
    "        return theNode\n",
    "    # multiplication and division\n",
    "    mulDivSigns: list[str] = [\"*\", \"/\"]\n",
    "    theNode = buildOpNode(polyNode, mulDivSigns)\n",
    "    if (theNode is not None):\n",
    "        return theNode\n",
    "    # powers\n",
    "    powSign: list[str] = [\"^\"]\n",
    "    theNode = buildOpNode(polyNode, powSign)\n",
    "    if (theNode is not None):\n",
    "        return theNode\n",
    "    # \n",
    "    if ((polyNode[0] == \"(\") and (polyNode[len(polyNode) - 1] == \")\")):\n",
    "        theNode = buildNode(polyNode[1:len(polyNode) - 1])\n",
    "        return theNode\n",
    "    if ((polyNode == \"\")):\n",
    "        polyNode = \"0\"\n",
    "    for s in polyNode:\n",
    "        if not isDigit(s):\n",
    "            return None\n",
    "    theNode = ValNode()\n",
    "    theNode.val = int(polyNode)\n",
    "    return theNode\n",
    "\n",
    "def buildOpNode(polyNode: str, ops: list[str]) -> OpNode:\n",
    "    opNode: OpNode = None\n",
    "    lastNode: OpNode = None\n",
    "    brack: int = 0\n",
    "    term: str = \"\"\n",
    "    # iterate through the string of polynomials\n",
    "    for s in polyNode:\n",
    "        # if character is not an operational or in bracket\n",
    "        if (not containsChar(ops, s)) or (brack != 0):\n",
    "            term = term + s\n",
    "        # iterate or deiterate depending if openning or closing bracket\n",
    "        if s == \"(\":\n",
    "            brack+=1\n",
    "        if s == \")\":\n",
    "            brack-=1\n",
    "        if brack != 0:\n",
    "            continue\n",
    "        if (containsChar(ops, s)):\n",
    "            newNode: OpNode = OpNode()\n",
    "            newNode.opChar = s\n",
    "            newNode.val1 = buildNode(term)\n",
    "            if lastNode is not None:\n",
    "                lastNode.val2 = newNode\n",
    "            lastNode = newNode\n",
    "            if opNode is None:\n",
    "                opNode = lastNode\n",
    "            term = \"\"\n",
    "    if lastNode is not None:\n",
    "        lastNode.val2 = buildNode(term)\n",
    "    return opNode\n",
    "\n",
    "def evalPolynomial(poly: str, num: int) -> int:\n",
    "    if poly == \"\":\n",
    "        return -1\n",
    "    correctedPoly: str = \"\"\n",
    "    brack: int = 0\n",
    "    for i in range(0, len(poly)):\n",
    "        s: str = poly[i]\n",
    "        # multiplication\n",
    "        if (s == \"x\"):\n",
    "            if i != 0:\n",
    "                s2 = poly[i - 1]\n",
    "                if isDigit(s2):\n",
    "                    correctedPoly += \"*\"\n",
    "            correctedPoly += str(num)\n",
    "            continue\n",
    "        # opening brackets \n",
    "        if s == \"(\":\n",
    "            brack+=1\n",
    "            if i != 0:\n",
    "                s2: str = poly[i - 1]\n",
    "                if (isDigit(s2) or (s2 == \"x\")):\n",
    "                    correctedPoly += \"*\"\n",
    "            correctedPoly += s\n",
    "            continue\n",
    "        # closing brackets\n",
    "        if s == \")\":\n",
    "            brack-=1\n",
    "            if i != (len(poly) - 1):\n",
    "                s2: str = poly[i + 1]\n",
    "                if isDigit(s2):\n",
    "                    correctedPoly += s2 + \"*\"\n",
    "                    continue\n",
    "            correctedPoly += s\n",
    "            continue\n",
    "        correctedPoly += s\n",
    "\n",
    "    if (brack != 0):\n",
    "        return -1\n",
    "    node: Node = buildNode(correctedPoly)\n",
    "    if node is None:\n",
    "        return -1\n",
    "    res: int = node.getResult()\n",
    "    return res\n"
   ]
  },
  {
   "cell_type": "code",
   "execution_count": 30,
   "metadata": {},
   "outputs": [
    {
     "name": "stdout",
     "output_type": "stream",
     "text": [
      "6\n",
      "45\n",
      "10\n",
      "-1\n"
     ]
    }
   ],
   "source": [
    "print(evalPolynomial(\"x+1\", 5))\n",
    "print(evalPolynomial(\"5x^2\", 3))\n",
    "print(evalPolynomial(\"(x(x+1))/2\", 4))\n",
    "print(evalPolynomial(\"4(x + 3))/2\", 5))"
   ]
  },
  {
   "cell_type": "code",
   "execution_count": null,
   "metadata": {},
   "outputs": [],
   "source": []
  },
  {
   "cell_type": "code",
   "execution_count": null,
   "metadata": {},
   "outputs": [],
   "source": []
  }
 ],
 "metadata": {
  "kernelspec": {
   "display_name": ".venv",
   "language": "python",
   "name": "python3"
  },
  "language_info": {
   "codemirror_mode": {
    "name": "ipython",
    "version": 3
   },
   "file_extension": ".py",
   "mimetype": "text/x-python",
   "name": "python",
   "nbconvert_exporter": "python",
   "pygments_lexer": "ipython3",
   "version": "3.12.0"
  }
 },
 "nbformat": 4,
 "nbformat_minor": 2
}
